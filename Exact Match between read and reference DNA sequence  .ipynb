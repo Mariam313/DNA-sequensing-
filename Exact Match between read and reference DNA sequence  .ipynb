{
 "cells": [
  {
   "cell_type": "markdown",
   "metadata": {},
   "source": [
    "**In this notebook, I'll download, read, and explore genetic data in FASTA and FASTQ fies.**\n",
    "* Will use naive search to perform exact matching \n"
   ]
  },
  {
   "cell_type": "markdown",
   "metadata": {},
   "source": [
    "<font color = green> **Here are some useful codes**"
   ]
  },
  {
   "cell_type": "code",
   "execution_count": 1,
   "metadata": {},
   "outputs": [
    {
     "name": "stdout",
     "output_type": "stream",
     "text": [
      "ATCG\n"
     ]
    }
   ],
   "source": [
    "seqs = ['A', 'T', 'C', 'G']\n",
    "print(''.join(seqs))"
   ]
  },
  {
   "cell_type": "code",
   "execution_count": 3,
   "metadata": {},
   "outputs": [
    {
     "name": "stdout",
     "output_type": "stream",
     "text": [
      "TGTTTTAGCGGGTCA\n"
     ]
    }
   ],
   "source": [
    "# To generate random sequence of nucleotide \n",
    "import random\n",
    "seq = ''\n",
    "for _ in range(15):\n",
    "    seq += random.choice('ACTG')\n",
    "print(seq)"
   ]
  },
  {
   "cell_type": "code",
   "execution_count": 4,
   "metadata": {},
   "outputs": [
    {
     "name": "stdout",
     "output_type": "stream",
     "text": [
      "TAGAACTGGCTGCCTCATCG\n"
     ]
    }
   ],
   "source": [
    "#another way: \n",
    "seq2 = ''.join([random.choice('ACGT') for _ in range(20)])\n",
    "print(seq2)"
   ]
  },
  {
   "cell_type": "code",
   "execution_count": 7,
   "metadata": {},
   "outputs": [
    {
     "data": {
      "text/plain": [
       "'ACT'"
      ]
     },
     "execution_count": 7,
     "metadata": {},
     "output_type": "execute_result"
    }
   ],
   "source": [
    "# Function to find longest common prefix in two strings of DNA \n",
    "def longestCommonPrefix(s1,s2):\n",
    "    i = 0\n",
    "    while i < len(s1) and i < len(s2) and s1[i] == s2[i]:\n",
    "        i+=1\n",
    "    return s1[:i]\n",
    "longestCommonPrefix('ACTCTGAA', 'ACTTTAA')"
   ]
  },
  {
   "cell_type": "code",
   "execution_count": 9,
   "metadata": {},
   "outputs": [
    {
     "data": {
      "text/plain": [
       "''"
      ]
     },
     "execution_count": 9,
     "metadata": {},
     "output_type": "execute_result"
    }
   ],
   "source": [
    "longestCommonPrefix('TACTTAATCTGAA', 'ACTTTAA')"
   ]
  },
  {
   "cell_type": "code",
   "execution_count": 10,
   "metadata": {},
   "outputs": [
    {
     "data": {
      "text/plain": [
       "'ACTCTGAATTCC'"
      ]
     },
     "execution_count": 10,
     "metadata": {},
     "output_type": "execute_result"
    }
   ],
   "source": [
    "longestCommonPrefix('ACTCTGAATTCCAAGT', 'ACTCTGAATTCCTTAAAATT')"
   ]
  },
  {
   "cell_type": "code",
   "execution_count": 16,
   "metadata": {},
   "outputs": [],
   "source": [
    "def reverseComplement(s):\n",
    "    complement= {'A': 'T', 'T': 'A', 'C':'G', 'G':'C', 'N':'N'}\n",
    "    t = ''\n",
    "    for base in s: \n",
    "        t = complement[base] + t \n",
    "    return t "
   ]
  },
  {
   "cell_type": "code",
   "execution_count": 17,
   "metadata": {},
   "outputs": [
    {
     "data": {
      "text/plain": [
       "'CCCGGGAAATTT'"
      ]
     },
     "execution_count": 17,
     "metadata": {},
     "output_type": "execute_result"
    }
   ],
   "source": [
    "reverseComplement('AAATTTCCCGGG')"
   ]
  },
  {
   "cell_type": "markdown",
   "metadata": {},
   "source": [
    "<font color = green> **Reading reference gene file:**"
   ]
  },
  {
   "cell_type": "code",
   "execution_count": 18,
   "metadata": {},
   "outputs": [],
   "source": [
    "def readGenome(filename):\n",
    "    geneom = ''\n",
    "    with open(filename, 'r') as f:\n",
    "        for line in f: \n",
    "            # first line is just genome information \n",
    "            if not line[0] == '>': \n",
    "                genome += line.rstrip()\n",
    "    return genome \n"
   ]
  },
  {
   "cell_type": "markdown",
   "metadata": {},
   "source": [
    "<font color = green> **To read a snipet or read of DNA** "
   ]
  },
  {
   "cell_type": "code",
   "execution_count": 19,
   "metadata": {},
   "outputs": [],
   "source": [
    "def readFastq(filename):\n",
    "    sequences = []\n",
    "    qualities = []\n",
    "    with open(filename) as fh: \n",
    "        while True:\n",
    "            fh.readline() #read but do nothing to name line\n",
    "            seq = fh.readline().strip() # it's base sequence\n",
    "            fh.readline() #skip placeholder line\n",
    "            qual = fh.readline().strip() #base quality line \n",
    "            if len(seq) == 0: \n",
    "                break\n",
    "            sequences.append(seq)\n",
    "            qualities.append(qual)\n",
    "        return sequences, qualities \n",
    "    "
   ]
  },
  {
   "cell_type": "markdown",
   "metadata": {},
   "source": [
    "<font color = red> **Naive function to find exact match**"
   ]
  },
  {
   "cell_type": "code",
   "execution_count": 25,
   "metadata": {},
   "outputs": [],
   "source": [
    "def naive(p, t): \n",
    "    occurrences = []\n",
    "    for i in range(len(t) - len(p) +1): # number of allignment possible\n",
    "        match = True\n",
    "        for j in range(len(p)):\n",
    "            if t[i+j] != p[j]:\n",
    "                match = False\n",
    "                break\n",
    "        if match: \n",
    "            occurrences.append(i)\n",
    "    return occurrences\n",
    "    "
   ]
  },
  {
   "cell_type": "code",
   "execution_count": null,
   "metadata": {},
   "outputs": [],
   "source": [
    "#count how many reads match the genome exactly \n",
    "numMatched = 0\n",
    "n = 0\n",
    "for i in reads: \n",
    "    r[:30]\n",
    "    matches = naive(r, genome)\n",
    "    matches.extend(naive(reverseComplement(r), genome))\n",
    "    n +=1 \n",
    "    if len(matches) > 0:\n",
    "        numMatched +=1 \n",
    "print('%d / %d reads matched the genome exactly!', %(numMatched, len(reads)))"
   ]
  },
  {
   "cell_type": "code",
   "execution_count": null,
   "metadata": {},
   "outputs": [],
   "source": [
    "# updating naive to allow up to 3 mismatches \n",
    "\n",
    "def naive_3mm(p, t ):\n",
    "    occurrences = []\n",
    "    for i in range(len(t) - len(p) +1): \n",
    "        mismatch = 0\n",
    "        match =True\n",
    "        for j in range(len(p)):\n",
    "            if t[i+j] != p[j]: \n",
    "                if mismatch < 3:\n",
    "                    mistmatch +=1 \n",
    "                else:\n",
    "                    match = False\n",
    "                    breake\n",
    "        if match: \n",
    "            occurrences.append(i)\n",
    "    return occurrences "
   ]
  },
  {
   "cell_type": "code",
   "execution_count": null,
   "metadata": {},
   "outputs": [],
   "source": []
  },
  {
   "cell_type": "code",
   "execution_count": null,
   "metadata": {},
   "outputs": [],
   "source": []
  },
  {
   "cell_type": "code",
   "execution_count": null,
   "metadata": {},
   "outputs": [],
   "source": [
    "#import collections\n",
    "collections.Counter(genome)"
   ]
  },
  {
   "cell_type": "code",
   "execution_count": null,
   "metadata": {},
   "outputs": [],
   "source": [
    "def phred33ToQ(qual):\n",
    "    return ord(qual) - 33"
   ]
  },
  {
   "cell_type": "code",
   "execution_count": 20,
   "metadata": {},
   "outputs": [],
   "source": [
    "def createHist(qualityStrings):\n",
    "    hist = [0]*50\n",
    "    for read in qualityStrings:\n",
    "        for phred in read:\n",
    "            q=phred33ToQ(phred)\n",
    "            hist[q] +=1\n",
    "        return hist\n",
    "    "
   ]
  },
  {
   "cell_type": "code",
   "execution_count": 21,
   "metadata": {},
   "outputs": [],
   "source": [
    "#h = createHist(quals)\n",
    "# %matplotlib in line\n",
    "# import matplotlib.pyplot as plt\n",
    "#plt.plot(range(len(h)), h) \n",
    "#plt.show()"
   ]
  },
  {
   "cell_type": "code",
   "execution_count": 26,
   "metadata": {},
   "outputs": [],
   "source": [
    "def findingGCByPos(reads):\n",
    "    '''Find the GC ratio at each position'''\n",
    "    #keep track of the numberof G/C bases and the total number of bases at each position \n",
    "    gc = [0] * 100\n",
    "    total = [0] * 100\n",
    "    for read in reads: \n",
    "        for i in range(len(read)):\n",
    "            if read[i] == 'C' or read[i] == 'G':\n",
    "                gc[i] += 1\n",
    "            totals[i] += 1\n",
    "        # divide GC/total to get the average \n",
    "        for i in range(len(gc)):\n",
    "            if totals[i] > 0: \n",
    "                gc[i]/= float(totals[i])\n",
    "        return gc\n",
    "    \n",
    "#gc = findGCByPos(seqs)\n",
    "#plt.plot(range(len(gc)), gc)\n",
    "#plt.show()"
   ]
  },
  {
   "cell_type": "code",
   "execution_count": 23,
   "metadata": {},
   "outputs": [],
   "source": [
    "#count.update(sequence)"
   ]
  },
  {
   "cell_type": "code",
   "execution_count": null,
   "metadata": {},
   "outputs": [],
   "source": []
  }
 ],
 "metadata": {
  "kernelspec": {
   "display_name": "Python 3",
   "language": "python",
   "name": "python3"
  },
  "language_info": {
   "codemirror_mode": {
    "name": "ipython",
    "version": 3
   },
   "file_extension": ".py",
   "mimetype": "text/x-python",
   "name": "python",
   "nbconvert_exporter": "python",
   "pygments_lexer": "ipython3",
   "version": "3.7.4"
  }
 },
 "nbformat": 4,
 "nbformat_minor": 2
}
